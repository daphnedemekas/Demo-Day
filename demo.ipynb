{
 "cells": [
  {
   "cell_type": "code",
   "execution_count": 92,
   "id": "b15c1be6",
   "metadata": {},
   "outputs": [],
   "source": [
    "import pathlib\n",
    "import zipfile\n"
   ]
  },
  {
   "cell_type": "code",
   "execution_count": 93,
   "id": "24c7e242-e3ae-4d9b-aa22-cdace6cd375b",
   "metadata": {},
   "outputs": [],
   "source": [
    "from IPython.display import display, clear_output, Image\n",
    "import ipywidgets as widgets\n",
    "import os\n",
    "from ipywidgets import Layout"
   ]
  },
  {
   "cell_type": "code",
   "execution_count": 94,
   "id": "f199ea13-809e-494c-a64e-66db389e7f1c",
   "metadata": {},
   "outputs": [],
   "source": [
    "title = widgets.HTML(value = \"<b><font size=5><font color='darkblue'>Paste the access token given to you below </b>\", layout=Layout(width='80%', height='30px'))\n"
   ]
  },
  {
   "cell_type": "code",
   "execution_count": 95,
   "id": "8e2b9756",
   "metadata": {},
   "outputs": [],
   "source": [
    "import warnings \n",
    "warnings.filterwarnings('ignore')"
   ]
  },
  {
   "cell_type": "code",
   "execution_count": 96,
   "id": "0cc6b9f5",
   "metadata": {},
   "outputs": [],
   "source": [
    "#note to go through data and see which of the categories are most represented"
   ]
  },
  {
   "cell_type": "code",
   "execution_count": 97,
   "id": "4e681d11",
   "metadata": {},
   "outputs": [],
   "source": [
    "\n",
    "\n",
    "ceramic_artist_desc = {'Delft': {'description': ', also known as Delft Blue is a general term now used for Dutch tin-glazed earthenware, a form of faience. Most of it is blue and white pottery, and the city of Delft in the Netherlands was the major centre of production. Delftware includes pottery objects of all descriptions such plates, vases, figurines and other ornamental forms and tiles. The start of the style was around 1600, and the most highly regarded period of production is about 1640–1740, but Delftware continues to be produced. In the 17th and 18th centuries Delftware was a major industry, exporting all over Europe.',\n",
    "                                'source': 'Wikipedia', 'url':'https://en.wikipedia.org/wiki/Delft'},\n",
    "                        'Lucie Rie': {'description': ' was an Austrian-born British ceramics artist. Rie’s works, usually consisting of hand-thrown pots, bottles, and bowl forms, are noteworthy for their Modernist forms and her use of bright colors.',\n",
    "                                    'source': 'ArtNet', 'url':'http://www.artnet.com/artists/lucie-rie/'},\n",
    "                        'Johann Kandler': {'description': ' was a German sculptor who became the most important modeller of the Meissen porcelain manufactury, and arguably of all European porcelain. Meissen pieces of all sorts were normally made with moulds, whose designs Kändler mostly created, supervising the production of the moulds, and checking the quality of the many examples cast. He was often not involved with their painting, which can vary between examples.',\n",
    "                                            'source':'Wikipedia', 'url':'https://en.wikipedia.org/wiki/Johann_Joachim_K%C3%A4ndler'},\n",
    "                        'Martin Hunt': {'description': ', who has died aged 75, was one of Britain’s most distinguished designers. Although Hunt designed for glass and lighting, he will be remembered for the pure form of his ceramic work, characterised by an absence of surface decoration.',\n",
    "                                        'source': 'The Guardian', 'url':'https://www.theguardian.com/artanddesign/2018/jun/25/martin-hunt-obituary'},\n",
    "                        'Iznik': {'description':' pottery, or Iznik ware, named after the town of İznik in western Anatolia where it was made, is a decorated ceramic that was produced from the last quarter of the 15th century until the end of the 17th century. İznik was an established centre for the production of simple earthenware pottery with an underglaze decoration when, in the last quarter of the 15th century, craftsmen in the town began to manufacture high quality pottery with a fritware body painted with cobalt blue under a colourless transparent lead glaze. The designs combined traditional Ottoman arabesque patterns with Chinese elements. The change was almost certainly a result of active intervention and patronage by the recently established Ottoman court in Istanbul who greatly valued Chinese blue-and-white porcelain.',\n",
    "                                'source': 'Wikipedia', 'url': 'https://en.wikipedia.org/wiki/Iznik_pottery'},\n",
    "                        'Wedgwood': {'description': 'Wedgwood is an English fine china, porcelain and luxury accessories manufacturer that was founded on 1 May 1759[1] by the potter and entrepreneur Josiah Wedgwood and was first incorporated in 1895 as Josiah Wedgwood and Sons Ltd. Wedgwood is especially associated with the \"dry-bodied\" (unglazed) stoneware Jasperware in contrasting colours, and in particular that in \"Wedgwood blue\" and white, always much the most popular colours, though there are several others.',\n",
    "                                    'source': 'Wikipedia', 'url': 'https://en.wikipedia.org/wiki/Wedgwood'},\n",
    "                        'Keith Murray': {'description': ' (5 July 1892 – 16 May 1981) was a New-Zealand-born British architect and industrial designer, known for ceramic, silver and glass designs. He is considered to be one of the most influential designers of the Art Deco / Modern age.', \n",
    "                                        'source': 'Wikipedia', 'url': 'https://en.wikipedia.org/wiki/Keith_Murray_(ceramic_artist)'},\n",
    "                        'Susie Cooper': {'description': ' was a household name in the Potteries during the 1920s through to the 1980s. She is known for bright art deco pieces and fine bone china tea sets, mixed with distinctively shaped tea and coffee pots, all decorated with beautifully crafted designs – lithograph pictures, floral patterns or clean lines.',\n",
    "                                        'source': 'Potteries Auction', 'url':'https://www.potteriesauctions.com/news/susie-cooper-pottery-markings-guide'}\n",
    "                        }\n",
    "\n",
    "\n",
    "fashion_artist_desc = {'Barbara Brown': {'description': ' was a British designer, best known for her Op Art designs in the 60s and early 70s, although her career continued beyond that point. She began supplying Heals in 1958, and became their most high profile designer. Heals was one of the leading suppliers of quality fabrics (and still is). Decor is one of Brown’s most famous designs. Her work is characterised by bold designs, large geometric shapes – a sign of the exuberance, confidence and optimism of the decade, and the ascendency of youth',\n",
    "                                'source': 'Jules Tern', 'url':'https://juliennedickey.wordpress.com/archive-2015/pattern-universe-research/4-barbara-brown-textile-designer/'},\n",
    "                        'William Morris': {'description': '(24 March 1834 – 3 October 1896) was a British textile designer, poet, artist, novelist, architectural conservationist, printer, translator and socialist activist associated with the British Arts and Crafts Movement. Morris studied many examples of early woven textiles in the collections of the South Kensington Museum (later to become the V&A). Many of his designs were inspired by 16th- and 17th-century Italian silks, and Peacock and Dragon, an imposing yet popular design from 1878, used striking, medieval-style figuration.',\n",
    "                                    'source': 'Victoria and Albert', 'url':'https://www.vam.ac.uk/articles/willam-morris-textiles'},\n",
    "                        'Balenciaga': {'description': ' is a luxury fashion house founded in 1919 by the Spanish designer Cristóbal Balenciaga in San Sebastian, Spain and later acquired by French luxury group Kering. Balenciaga had a reputation as a couturier of uncompromising standards and was called \"the master of us all\" by Christian Dior. His bubble skirts and odd, feminine, yet \"modernistic\" silhouettes became the trademarks of the house. Balenciaga closed in 1972 and was reopened under new ownership in 1986. Owned by Kering, Balenciaga headquarters are in Paris. ',\n",
    "                                            'source':'Wikipedia', 'url':'https://en.wikipedia.org/wiki/Balenciaga'},\n",
    "                        'Versace': {'description': ' is an Italian luxury fashion company and trade name founded by Gianni Versace in 1978. The company produces upmarket Italian-made ready-to-wear and accessories, as well as haute couture pieces under the Atelier Versace brand.',\n",
    "                                        'source': 'Wikipedia', 'url':'https://en.wikipedia.org/wiki/Versace'},\n",
    "                        'Vivienne Westwood': {'description':' is an English fashion designer and businesswoman, largely responsible for bringing modern punk and new wave fashions into the mainstream. Westwood came to public notice when she made clothes for Malcolm McLaren and her boutique in the Kings Road, which became known as SEX.',\n",
    "                                'source': 'Wikipedia', 'url': 'https://en.wikipedia.org/wiki/Vivienne_Westwood'},\n",
    "                        'Yves Saint Laurent': {'description': 'Yves Saint Lauren is a French luxury fashion house founded by Yves Saint Laurent and his partner, Pierre Bergé. Founded in 1962, today Saint Laurent markets a range of womens and mens ready-to-wear products, leather goods, shoes and jewellery. Yves Saint Laurent Beauté also has a presence in the beauty and fragrance market, although this is owned by LOréal, which holds exclusive licenses for the name. ',\n",
    "                                    'source': 'Wikipedia', 'url': 'https://en.wikipedia.org/wiki/Yves_Saint_Laurent_(brand)'},\n",
    "\n",
    "                        'Yoruba Women': {'description': ': Adire is the name given to indigo dyed cloth produced by Yoruba women of south western Nigeria using a variety of resist dye techniques. Adire translates as tie and dye, and the earliest cloths were probably simple tied designs on locally-woven hand-spun cotton cloth much like those still produced in Mali. In the early decades of the twentieth century however, the new access to large quantities of imported shirting material made possible by the spread of European textile merchants in certain Yoruba towns, notably Abeokuta, enabled women dyers to become both artists and entrepreneurs in a booming new medium.', \n",
    "                                        'source': 'Adire African Textiles', 'url': 'https://www.adireafricantextiles.com/textiles-resources-sub-saharan-africa/some-major-west-african-textile-traditions/adire-cloth-of-the-yorubas/'},\n",
    "                        }\n",
    "\n",
    "\n",
    "\n",
    "furniture_artist_desc = {'Paul Storr': {'description': ' was an English goldsmith and silversmith working in the Neoclassical and other styles during the late eighteenth and early nineteenth centuries. His works range from simple tableware to magnificent sculptural pieces made for royalty.',\n",
    "                                'source': 'Wikipedia', 'url':'https://en.wikipedia.org/wiki/Paul_Storr'},\n",
    "                        'Ashbee Robert': {'description': ' (17 May 1863 – 23 May 1942) was an English architect and designer who was a prime mover of the Arts and Crafts movement, which took its craft ethic from the works of John Ruskin and its co-operative structure from the socialism of William Morris. Ashbee was defined by one source as \"designer, architect, entrepreneur, and social reformer\". His disciplines included metalwork, textile design, furniture, jewellery and other objects in the Modern Style (British Art Nouveau style) and Arts and Crafts genres.',\n",
    "                                    'source': 'Wikipedia', 'url':'https://en.wikipedia.org/wiki/Charles_Robert_Ashbee'},\n",
    "                        'Garrard Robert': {'description': ' was part of an important and long-established firm of silversmiths (R. and S. Garrard and Co.), specialising in elaborate domestic silver and fine jewellery, during the last century Garrard produced some of the finest presentation plate. R. and S. Garrard and Co. produced a wide variety of useful and highly decorative silverware, frequently displayed at the national and international exhibitions; these provide an idea of Garrards range of items as well as stylistic design.',\n",
    "                                            'source':'Richard Redding Antiques', 'url':'https://www.richardreddingantiques.com/artists/289-robert-garrard/biography/'},\n",
    "                        'Hester Bateman': {'description': ' was an English silversmith, renowned for her high quality flatware and ornamental silverware. A craftswoman working within the family business, she was succeeded in turn by her sons, daughter-in-law, grandson and great-grandson. The Bateman family silversmithing company lasted until the middle of the nineteenth century.',\n",
    "                                        'source': 'Wikipedia', 'url':'https://en.wikipedia.org/wiki/Hester_Bateman'},\n",
    "\n",
    "\n",
    "                        'Joseph Wilmore': {'description':', was a Silvermaker from Birmingham. In 1816, after his grandfather Thomas Willmor (a well known silversmith himself) died, Joseph incorporated his grandfathers business into his own, giving him more scope to expand the variety of silver wares he could make and sell. Joseph had a showroom in Bouverie street London.',\n",
    "                                'source': 'Antiques Atlas', 'url': 'https://www.antiques-atlas.com/antiques/maker/joseph_willmore'},\n",
    "}\n"
   ]
  },
  {
   "cell_type": "code",
   "execution_count": 98,
   "id": "0dbb34f1",
   "metadata": {},
   "outputs": [],
   "source": [
    "time_period = ['16th century', '18th century', '20th century']\n"
   ]
  },
  {
   "cell_type": "code",
   "execution_count": 99,
   "id": "fd3e7d20",
   "metadata": {},
   "outputs": [],
   "source": [
    "subjects = ['Teapot (Ceramics)', 'Figure (Ceramics)', 'Tile (Ceramics)', 'Costume (Fashion)', 'Dress (Fashion)', 'Shoes (Fashion)',\n",
    "'Chair (Furniture & Metalwork)', 'Candlestick (Furniture & Metalwork)', 'Clock (Furniture & Metalwork)']"
   ]
  },
  {
   "cell_type": "code",
   "execution_count": 100,
   "id": "a16e5b8b",
   "metadata": {},
   "outputs": [],
   "source": [
    "materials = ['Earthenware (Ceramics)', 'Glass (Ceramics)', 'Marble (Ceramics)', 'Leather (Fashion)', 'Cotton (Fashion)', 'Silk (Fashion)',\n",
    "'Wood (Furniture & Metalwork)', 'Metal (Furniture & Metalwork)', 'Silver (Furniture & Metalwork)']"
   ]
  },
  {
   "cell_type": "code",
   "execution_count": 101,
   "id": "fe60c19f",
   "metadata": {},
   "outputs": [],
   "source": [
    "styles = ['Ottoman (Ceramics)', 'Modernist (Ceramics)', 'Arts & Crafts (Ceramics)', 'High Fashion (Fashion)', 'East Asian (Fashion)', 'Theatrical (Fashion)',\n",
    "'Rococo (Furniture & Metalwork)', 'Baroque (Furniture & Metalwork)', 'Art Deco (Furniture & Metalwork)']"
   ]
  },
  {
   "cell_type": "code",
   "execution_count": 102,
   "id": "0141bbd2",
   "metadata": {},
   "outputs": [],
   "source": [
    "artists = ['Lucie Rie (Ceramics)', 'Johann Kandler (Ceramics)', 'Iznik (Ceramics)', 'Versace (Fashion)', 'Vivienne Westwood (Fashion)', 'Yoruba Women (Fashion)',\n",
    "'Ashbee Robert (Furniture & Metalwork)', 'Hester Bateman (Furniture & Metalwork)', 'Joseph Wilmore (Furniture & Metalwork)']"
   ]
  },
  {
   "cell_type": "code",
   "execution_count": 103,
   "id": "aa5202e2",
   "metadata": {},
   "outputs": [],
   "source": [
    "material = widgets.Dropdown(options = materials, layout=Layout(width='14%', height='60px'))"
   ]
  },
  {
   "cell_type": "code",
   "execution_count": 104,
   "id": "14bf09ab",
   "metadata": {},
   "outputs": [],
   "source": [
    "layout_big = widgets.Layout(width='400px', height='50px')\n",
    "\n",
    "layout_small = widgets.Layout(width='200px', height='25px')\n",
    "\n",
    "select_layout = Layout(width='12%', height='80px')"
   ]
  },
  {
   "cell_type": "code",
   "execution_count": null,
   "id": "116bc531",
   "metadata": {},
   "outputs": [],
   "source": []
  },
  {
   "cell_type": "code",
   "execution_count": 105,
   "id": "05643226",
   "metadata": {},
   "outputs": [
    {
     "data": {
      "application/vnd.jupyter.widget-view+json": {
       "model_id": "d5371ead9b9446e7bd6a89d2794b3264",
       "version_major": 2,
       "version_minor": 0
      },
      "text/plain": [
       "HTML(value=\"<b><font size=5><font color='darkblue'>Design Generator </b>\", layout=Layout(height='30px', width=…"
      ]
     },
     "metadata": {},
     "output_type": "display_data"
    }
   ],
   "source": [
    "title = widgets.HTML(value = \"<b><font size=5><font color='darkblue'>Design Generator </b>\", layout=Layout(width='80%', height='30px'))\n",
    "display(title)"
   ]
  },
  {
   "cell_type": "code",
   "execution_count": 106,
   "id": "316e78fa",
   "metadata": {},
   "outputs": [
    {
     "data": {
      "application/vnd.jupyter.widget-view+json": {
       "model_id": "71e748f3dce24902ac9804f3b50391d1",
       "version_major": 2,
       "version_minor": 0
      },
      "text/plain": [
       "HTML(value=\"<font size=2><font color='black'>Welcome to the Design Generator. Below you can generate a custom …"
      ]
     },
     "metadata": {},
     "output_type": "display_data"
    }
   ],
   "source": [
    "text1 = widgets.HTML(value = \"<font size=2><font color='black'>Welcome to the Design Generator. Below you can generate a custom AI art piece inspired by items in the Victoria & Albert collection. We'll ask you to select from objects, styles, materials and makers across three different collections.\", layout=Layout(width='80%', height='60px'))\n",
    "\n",
    "display(text1)\n"
   ]
  },
  {
   "cell_type": "code",
   "execution_count": 107,
   "id": "d7123191",
   "metadata": {},
   "outputs": [
    {
     "data": {
      "application/vnd.jupyter.widget-view+json": {
       "model_id": "2ce1f395d4fb4da8abb9ccad971a8b0f",
       "version_major": 2,
       "version_minor": 0
      },
      "text/plain": [
       "HTML(value=\"<font size=2><font color='black'>First, select a collection and a century.\", layout=Layout(height=…"
      ]
     },
     "metadata": {},
     "output_type": "display_data"
    }
   ],
   "source": [
    "text3 = widgets.HTML(value = \"<font size=2><font color='black'>First, select a collection and a century.\", layout=Layout(width='100%', height='20px'))\n",
    "display(text3)"
   ]
  },
  {
   "cell_type": "code",
   "execution_count": 108,
   "id": "5dea153a",
   "metadata": {},
   "outputs": [],
   "source": [
    "collection = widgets.Dropdown(options = ['Ceramics', 'Fashion', 'Furniture & Metalwork'], layout = Layout(width='15%', height='20px'))\n",
    "century = widgets.Dropdown(options = time_period, layout = Layout(width='15%', height='20px'))\n",
    "collection_and_century = widgets.HTML(value = \"<b>Collection & Century: </b>\", layout=Layout(width='30%', height='20px'))"
   ]
  },
  {
   "cell_type": "code",
   "execution_count": 109,
   "id": "49dc72f5",
   "metadata": {},
   "outputs": [
    {
     "data": {
      "application/vnd.jupyter.widget-view+json": {
       "model_id": "a016e1d505564c9f8d8888187ddcf8d0",
       "version_major": 2,
       "version_minor": 0
      },
      "text/plain": [
       "HBox(children=(HTML(value='<b>Collection & Century: </b>', layout=Layout(height='20px', width='30%')), Dropdow…"
      ]
     },
     "metadata": {},
     "output_type": "display_data"
    }
   ],
   "source": [
    "display(widgets.HBox((collection_and_century, collection, century)))"
   ]
  },
  {
   "cell_type": "code",
   "execution_count": 110,
   "id": "22cdc7cf",
   "metadata": {},
   "outputs": [],
   "source": [
    "space = widgets.HTML(value = \"\", layout=Layout(width='3%', height='40px'))\n",
    "space1 = widgets.HTML(value = \"\", layout=Layout(width='10%', height='20px'))\n",
    "header1 = widgets.HTML(value = \"<font size=3><font color='black'>Object\", layout=Layout(width='17%', height='30px'))\n",
    "header2 = widgets.HTML(value = \"<font size=3><font color='black'>Style\", layout=Layout(width='17%', height='30px'))\n",
    "header3 = widgets.HTML(value = \"<font size=3><font color='black'>Material\", layout=Layout(width='17%', height='30px'))\n",
    "header4 = widgets.HTML(value = \"<font size=3><font color='black'>Artist / Maker\", layout=Layout(width='17%', height='30px'))"
   ]
  },
  {
   "cell_type": "code",
   "execution_count": 111,
   "id": "40a8525c",
   "metadata": {},
   "outputs": [],
   "source": [
    "space2 = widgets.HTML(value = \"\", layout=Layout(width='4%', height='20px'))\n"
   ]
  },
  {
   "cell_type": "code",
   "execution_count": 112,
   "id": "1858a9e2",
   "metadata": {},
   "outputs": [],
   "source": [
    "subject = widgets.Dropdown(options = subjects, layout=Layout(width='14%', height='60px'))"
   ]
  },
  {
   "cell_type": "code",
   "execution_count": 113,
   "id": "657ccadb",
   "metadata": {},
   "outputs": [],
   "source": [
    "style = widgets.Dropdown(options = styles,layout=Layout(width='14%', height='60px'))\n",
    "artist = widgets.Dropdown(options = artists,layout=Layout(width='14%', height='60px'))"
   ]
  },
  {
   "cell_type": "code",
   "execution_count": 114,
   "id": "1e56eb94",
   "metadata": {},
   "outputs": [
    {
     "data": {
      "application/vnd.jupyter.widget-view+json": {
       "model_id": "3b6c6d816cc44c9894a11f1a72f208c3",
       "version_major": 2,
       "version_minor": 0
      },
      "text/plain": [
       "HTML(value=\"<font size=2><font color='black'>Here, you can select across styles, materials, objects and makers…"
      ]
     },
     "metadata": {},
     "output_type": "display_data"
    }
   ],
   "source": [
    "text4 = widgets.HTML(value = \"<font size=2><font color='black'>Here, you can select across styles, materials, objects and makers. Get creative!\", layout=Layout(width='100%', height='40px'))\n",
    "display(text4)"
   ]
  },
  {
   "cell_type": "code",
   "execution_count": 115,
   "id": "704a5152",
   "metadata": {},
   "outputs": [
    {
     "data": {
      "application/vnd.jupyter.widget-view+json": {
       "model_id": "3e257692781344dcb98a39709c6ba42b",
       "version_major": 2,
       "version_minor": 0
      },
      "text/plain": [
       "HBox(children=(HTML(value='', layout=Layout(height='20px', width='10%')), HTML(value=\"<font size=3><font color…"
      ]
     },
     "metadata": {},
     "output_type": "display_data"
    }
   ],
   "source": [
    "display(widgets.HBox((space1, header1, header2, header3, header4)))"
   ]
  },
  {
   "cell_type": "code",
   "execution_count": 116,
   "id": "9d53a7bd",
   "metadata": {},
   "outputs": [
    {
     "data": {
      "application/vnd.jupyter.widget-view+json": {
       "model_id": "5b132943be0d4927a79cd4e1af73c15c",
       "version_major": 2,
       "version_minor": 0
      },
      "text/plain": [
       "HBox(children=(HTML(value='', layout=Layout(height='20px', width='4%')), Dropdown(layout=Layout(height='60px',…"
      ]
     },
     "metadata": {},
     "output_type": "display_data"
    }
   ],
   "source": [
    "display(widgets.HBox((space2, subject, space, style, space, material, space, artist)))"
   ]
  },
  {
   "cell_type": "code",
   "execution_count": 117,
   "id": "7f189187",
   "metadata": {},
   "outputs": [],
   "source": [
    "def artist_description():\n",
    "    if 'Ceramics' in artist.value:\n",
    "        artist_name = artist.value.replace(' (Ceramics)', '')\n",
    "        description = ceramic_artist_desc[artist_name]['description']\n",
    "        ceramic_artist_widget = widgets.HTML(value = f\"<b><font size=3.5><font color='black'>{artist_name}</b>\" + f\"<font size=3><font color='black'>{description}\" + '<hr>', placeholder = artist_name)\n",
    "        display(ceramic_artist_widget)\n",
    "    elif 'Fashion' in artist.value:\n",
    "        artist_name = artist.value.replace(' (Fashion)', '')\n",
    "        description = fashion_artist_desc[artist_name]['description']\n",
    "        fashion_artist_widget = widgets.HTML(value = f\"<b><font size=3.5><font color='black'>{artist_name}</b>\" + f\"<font size=3><font color='black'>{description}\" + '<hr>', placeholder = artist_name)\n",
    "        display(fashion_artist_widget)\n",
    "\n",
    "    elif 'Furniture' in artist.value:\n",
    "        artist_name = artist.value.replace(' (Furniture & Metalwork)', '')\n",
    "        description = furniture_artist_desc[artist_name]['description']\n",
    "        furniture_artist_widget = widgets.HTML(value = f\"<b><font size=3.5><font color='black'>{artist_name}</b>\" + f\"<font size=3><font color='black'>{description}\" + '<hr>', placeholder = artist_name)\n",
    "        display(furniture_artist_widget)"
   ]
  },
  {
   "cell_type": "code",
   "execution_count": 118,
   "id": "6cbd6ac7",
   "metadata": {},
   "outputs": [
    {
     "data": {
      "application/vnd.jupyter.widget-view+json": {
       "model_id": "1b4f5f0b102946768864d02b2de78b41",
       "version_major": 2,
       "version_minor": 0
      },
      "text/plain": [
       "Button(description='Artist / Maker Description', layout=Layout(height='25px', width='200px'), style=ButtonStyl…"
      ]
     },
     "metadata": {},
     "output_type": "display_data"
    },
    {
     "data": {
      "application/vnd.jupyter.widget-view+json": {
       "model_id": "177a415a601347709f842d3daf1e99b0",
       "version_major": 2,
       "version_minor": 0
      },
      "text/plain": [
       "Output()"
      ]
     },
     "metadata": {},
     "output_type": "display_data"
    }
   ],
   "source": [
    "#Artist Descriptions \n",
    "output1 = widgets.Output()\n",
    "\n",
    "button_description = widgets.Button(description = 'Artist / Maker Description', tooltip='Send',\n",
    "                style={'description_width': 'initial'}, layout = layout_small)\n",
    "\n",
    "button_description.style.button_color = 'lightgreen'\n",
    "\n",
    "def on_button_description_clicked(event):\n",
    "    with output1:\n",
    "        clear_output()\n",
    "\n",
    "        prompt = artist_description() \n",
    "\n",
    "    \n",
    "button_description.on_click(on_button_description_clicked)\n",
    "\n",
    "display(button_description, output1)"
   ]
  },
  {
   "cell_type": "code",
   "execution_count": 119,
   "id": "bba9fa65",
   "metadata": {},
   "outputs": [],
   "source": [
    "\n",
    "\n",
    "def get_closest_training_images_by_clip(artist, prompt, directory):\n",
    "    pass\n",
    "\n",
    "    "
   ]
  },
  {
   "cell_type": "code",
   "execution_count": 120,
   "id": "9c4706d6",
   "metadata": {},
   "outputs": [],
   "source": [
    "artist_dictionary = {}"
   ]
  },
  {
   "cell_type": "code",
   "execution_count": 121,
   "id": "110a4a6c",
   "metadata": {},
   "outputs": [],
   "source": [
    "def construct_prompt(collection, century):\n",
    "    if 'Ceramics' in style.value:\n",
    "        style_name = style.value.replace(' (Ceramics)', '')\n",
    "    elif 'Fashion' in style.value:\n",
    "        style_name = style.value.replace(' (Fashion)', '')\n",
    "    elif 'Furniture' in style.value:\n",
    "        style_name = style.value.replace(' (Furniture & Metalwork)', '')\n",
    "    if 'Ceramics' in artist.value:\n",
    "        artist_name = artist.value.replace(' (Ceramics)', '')\n",
    "    elif 'Fashion' in artist.value:\n",
    "        artist_name = artist.value.replace(' (Fashion)', '')\n",
    "    elif 'Furniture' in artist.value:\n",
    "        artist_name = artist.value.replace(' (Furniture & Metalwork)', '')\n",
    "    if 'Ceramics' in material.value:\n",
    "        material_name = material.value.replace(' (Ceramics)', '')\n",
    "    elif 'Fashion' in material.value:\n",
    "        material_name = material.value.replace(' (Fashion)', '')\n",
    "    elif 'Furniture' in material.value:\n",
    "        material_name = material.value.replace(' (Furniture & Metalwork)', '')\n",
    "    if 'Ceramics' in subject.value:\n",
    "        subject_name = subject.value.replace(' (Ceramics)', '')\n",
    "    elif 'Fashion' in subject.value:\n",
    "        subject_name = subject.value.replace(' (Fashion)', '')\n",
    "    elif 'Furniture' in subject.value:\n",
    "        subject_name = subject.value.replace(' (Furniture & Metalwork)', '')\n",
    "    prompt = ''\n",
    "    prompt += f'{collection}, '\n",
    "    prompt += f'{century}, '\n",
    "    prompt += f'of style {style_name}, '\n",
    "    if artist_name == 'Rie Lucie':\n",
    "        artist_name = 'Lucie Rie'\n",
    "    if artist_name == 'Iznik':\n",
    "        artist_name = 'IZNIK'\n",
    "    prompt += f'by {artist_name}, '\n",
    "    prompt += f'{subject_name}, '\n",
    "    prompt += f'{material_name}'\n",
    "\n",
    "    return prompt"
   ]
  },
  {
   "cell_type": "code",
   "execution_count": 122,
   "id": "a8ea7389",
   "metadata": {},
   "outputs": [],
   "source": [
    "output2 = widgets.Output()\n"
   ]
  },
  {
   "cell_type": "code",
   "execution_count": 123,
   "id": "7fe40883",
   "metadata": {},
   "outputs": [
    {
     "data": {
      "application/vnd.jupyter.widget-view+json": {
       "model_id": "ab05b15df80a45f5ab29b19192556172",
       "version_major": 2,
       "version_minor": 0
      },
      "text/plain": [
       "Button(description='Construct prompt', layout=Layout(height='25px', width='200px'), style=ButtonStyle(button_c…"
      ]
     },
     "metadata": {},
     "output_type": "display_data"
    },
    {
     "data": {
      "application/vnd.jupyter.widget-view+json": {
       "model_id": "effda4128ddd4ec6ac7b88af53596f28",
       "version_major": 2,
       "version_minor": 0
      },
      "text/plain": [
       "Output()"
      ]
     },
     "metadata": {},
     "output_type": "display_data"
    }
   ],
   "source": [
    "#View prompt\n",
    "\n",
    "view_prompt_button = widgets.Button(description = 'Construct prompt', tooltip='Send',\n",
    "                style={'description_width': 'initial'}, layout = layout_small)\n",
    "\n",
    "view_prompt_button.style.button_color = 'lightgreen'\n",
    "\n",
    "def on_view_button_prompt_clicked(event):\n",
    "    with output2:\n",
    "        clear_output()\n",
    "\n",
    "        prompt = construct_prompt(collection.value, century.value) \n",
    "        constructed_prompt = widgets.HTML(value = f\"<font size=3><font color='black'>Constructed prompt: {prompt}\" + '<hr>')\n",
    "        display(constructed_prompt)\n",
    "\n",
    "view_prompt_button.on_click(on_view_button_prompt_clicked)\n",
    "\n",
    "display(view_prompt_button, output2)\n"
   ]
  },
  {
   "cell_type": "code",
   "execution_count": 124,
   "id": "ccba78be",
   "metadata": {},
   "outputs": [],
   "source": [
    "output3 = widgets.Output()"
   ]
  },
  {
   "cell_type": "code",
   "execution_count": 125,
   "id": "0291b895",
   "metadata": {},
   "outputs": [],
   "source": [
    "import os\n",
    "import subprocess\n",
    "import shutil\n",
    "def on_run_button_clicked(event):\n",
    "    with output3:\n",
    "        clear_output()\n",
    "        print(\"Generating your image ...\")\n",
    "        try:\n",
    "            if not os.path.exists('output/'):\n",
    "                os.mkdir('output/')\n",
    "            prompt = construct_prompt(collection.value, century.value)\n",
    "            subprocess.run(['wget',f\"https://logic-ai.ricerca.di.unimi.it:8080/demo/files?key=n5i47V8DeH9nt2&file=zipped_pregenerated/{prompt.replace('&', '-').replace(' ','_').replace(',', '_')}.zip\", '-P', 'content_zipped', '--no-check-certificate'],stdout=subprocess.DEVNULL,\n",
    "    stderr=subprocess.STDOUT)\n",
    "            zip_file = os.listdir('content_zipped')[0]\n",
    "            with zipfile.ZipFile(f'content_zipped/{zip_file}', 'r') as zip_ref:\n",
    "\n",
    "                 zip_ref.extractall('content_zipped')\n",
    "                 filename = os.listdir(f'content_zipped/pregenerated/{prompt}')[0]\n",
    "\n",
    "                 img = Image(f'content_zipped/pregenerated/{prompt}/{filename}', width = 400, height = 400)\n",
    "\n",
    "                 display(img)\n",
    "        except FileNotFoundError as e:\n",
    "            print(\"Sorry, something went wrong. Try another prompt!\")\n",
    "        try:\n",
    "                 shutil.rmtree('content_zipped')\n",
    "                 shutil.rmtree('pregenerated')\n",
    "\n",
    "        except FileNotFoundError as e:\n",
    "            pass\n",
    "\n"
   ]
  },
  {
   "cell_type": "code",
   "execution_count": 126,
   "id": "a84e315c",
   "metadata": {},
   "outputs": [],
   "source": [
    "#Run model \n",
    "button_run = widgets.Button(description = 'Run model', tooltip='Send',\n",
    "                style={'description_width': 'initial'}, layout = layout_big)\n",
    "button_run.style.button_color = 'lightblue'\n",
    "button_run.on_click(on_run_button_clicked)\n"
   ]
  },
  {
   "cell_type": "code",
   "execution_count": 127,
   "id": "414b9465",
   "metadata": {},
   "outputs": [
    {
     "data": {
      "application/vnd.jupyter.widget-view+json": {
       "model_id": "bea2d76fabbb41abac6d461997b718c8",
       "version_major": 2,
       "version_minor": 0
      },
      "text/plain": [
       "Button(description='Run model', layout=Layout(height='50px', width='400px'), style=ButtonStyle(button_color='l…"
      ]
     },
     "metadata": {},
     "output_type": "display_data"
    },
    {
     "data": {
      "application/vnd.jupyter.widget-view+json": {
       "model_id": "5d0f22f6ef514d78b75027d7db4c5125",
       "version_major": 2,
       "version_minor": 0
      },
      "text/plain": [
       "Output()"
      ]
     },
     "metadata": {},
     "output_type": "display_data"
    }
   ],
   "source": [
    "display(button_run,output3)\n",
    "vbox_result = widgets.VBox([button_run, output3])"
   ]
  },
  {
   "cell_type": "code",
   "execution_count": 128,
   "id": "1d474aa7",
   "metadata": {},
   "outputs": [],
   "source": [
    "output4 = widgets.Output()"
   ]
  },
  {
   "cell_type": "code",
   "execution_count": 129,
   "id": "09edbbf1-93ef-4651-a483-3baac1106144",
   "metadata": {},
   "outputs": [
    {
     "data": {
      "application/vnd.jupyter.widget-view+json": {
       "model_id": "1514fc7be68f42f9bd99189587313ec2",
       "version_major": 2,
       "version_minor": 0
      },
      "text/plain": [
       "HTML(value=\"<font size=2><font color='black'>Finally, you can explore some of the training images from the Vic…"
      ]
     },
     "metadata": {},
     "output_type": "display_data"
    }
   ],
   "source": [
    "text5 = widgets.HTML(value = \"<font size=2><font color='black'>Finally, you can explore some of the training images from the Victoria & Albert collection that have low CLIP scores to your constructed prompt. Note that this will be related first and foremost to the 'Collection' variable.\", layout=Layout(width='100%', height='40px'))\n",
    "display(text5)"
   ]
  },
  {
   "cell_type": "code",
   "execution_count": 130,
   "id": "92615921",
   "metadata": {},
   "outputs": [],
   "source": [
    "import os\n",
    "import json\n",
    "with open(\"mydict.json\", \"r\") as read_file:\n",
    "    mydict = json.load(read_file)\n",
    "\n",
    "def on_run_button_2_clicked(event):\n",
    "    with output4:\n",
    "        clear_output()\n",
    "        print(\"Generating image from collection ...\")\n",
    "        try:\n",
    "            if not os.path.exists('output/'):\n",
    "                os.mkdir('output/')\n",
    "            prompt = construct_prompt(collection.value, century.value)\n",
    "            prompt_replace = prompt.replace('&', '-').replace(' ','_').replace(',', '_')\n",
    "            dict_value = mydict[prompt_replace]\n",
    "            subprocess.run(['wget','-r',f\"https://logic-ai.ricerca.di.unimi.it:8080/demo/files?key=n5i47V8DeH9nt2&file=pregenerated_data/{prompt_replace}/{dict_value}\", '-P', 'data_zipped', '--no-check-certificate'],stdout=subprocess.DEVNULL,\n",
    "    stderr=subprocess.STDOUT)\n",
    "            file = os.listdir('data_zipped')[0]\n",
    "\n",
    "            filename = os.listdir('data_zipped')[0]\n",
    "            filename2 = os.listdir(f'data_zipped/{filename}/demo')[0]\n",
    "\n",
    "            img = Image(f'data_zipped/{filename}/demo/{filename2}', width = 400, height = 400)\n",
    "\n",
    "            display(img)\n",
    "            print(f\"The description of this image for training is: {dict_value.replace('__', ', ').replace('-','&').replace('_',' ')}\"[:-7])\n",
    "\n",
    "            shutil.rmtree('data_zipped')\n",
    "\n",
    "        except FileNotFoundError as e:\n",
    "            print(e)\n",
    "            print(\"Sorry, something went wrong. Try another prompt!\")\n",
    "\n"
   ]
  },
  {
   "cell_type": "code",
   "execution_count": 131,
   "id": "dd134e05-2671-4765-bb45-6520332a7c2f",
   "metadata": {},
   "outputs": [],
   "source": [
    "button_run_2 = widgets.Button(description = 'Explore training images', tooltip='Send',\n",
    "                style={'description_width': 'initial'}, layout = layout_big)"
   ]
  },
  {
   "cell_type": "code",
   "execution_count": 132,
   "id": "4a551e0a-6600-42b5-ba0a-765f57b34b39",
   "metadata": {},
   "outputs": [],
   "source": [
    "button_run_2.style.button_color = 'lightblue'\n",
    "button_run_2.on_click(on_run_button_2_clicked)\n"
   ]
  },
  {
   "cell_type": "code",
   "execution_count": 133,
   "id": "27ee7ed5-6eb3-4934-995a-e10708f6d89a",
   "metadata": {},
   "outputs": [
    {
     "data": {
      "application/vnd.jupyter.widget-view+json": {
       "model_id": "b437ce9e31284159b556cdf0be56f734",
       "version_major": 2,
       "version_minor": 0
      },
      "text/plain": [
       "Button(description='Explore training images', layout=Layout(height='50px', width='400px'), style=ButtonStyle(b…"
      ]
     },
     "metadata": {},
     "output_type": "display_data"
    },
    {
     "data": {
      "application/vnd.jupyter.widget-view+json": {
       "model_id": "e69e8bb04c2c45b893a4f6879ab052be",
       "version_major": 2,
       "version_minor": 0
      },
      "text/plain": [
       "Output()"
      ]
     },
     "metadata": {},
     "output_type": "display_data"
    }
   ],
   "source": [
    "display(button_run_2,output4)\n",
    "vbox_result = widgets.VBox([button_run_2, output4])"
   ]
  },
  {
   "cell_type": "code",
   "execution_count": null,
   "id": "fe24dccc-4ba0-494a-9eea-61f4b326c1f1",
   "metadata": {},
   "outputs": [],
   "source": []
  }
 ],
 "metadata": {
  "kernelspec": {
   "display_name": "Python 3.8.13 ('demo': venv)",
   "language": "python",
   "name": "python3"
  },
  "language_info": {
   "codemirror_mode": {
    "name": "ipython",
    "version": 3
   },
   "file_extension": ".py",
   "mimetype": "text/x-python",
   "name": "python",
   "nbconvert_exporter": "python",
   "pygments_lexer": "ipython3",
   "version": "3.8.13"
  },
  "vscode": {
   "interpreter": {
    "hash": "2d812e41ade6bee1fdd9e4c0f2619084d053baae2447c7f6bc544b67127da9c1"
   }
  }
 },
 "nbformat": 4,
 "nbformat_minor": 5
}
